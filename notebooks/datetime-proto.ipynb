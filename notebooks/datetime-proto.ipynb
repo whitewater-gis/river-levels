{
 "cells": [
  {
   "cell_type": "code",
   "execution_count": 45,
   "metadata": {},
   "outputs": [],
   "source": [
    "from datetime import datetime, timezone\n",
    "import importlib\n",
    "import os\n",
    "from pathlib import Path\n",
    "import sys\n",
    "\n",
    "from arcgis.features import GeoAccessor, GeoSeriesAccessor\n",
    "from arcgis.gis import GIS\n",
    "from dateutil.relativedelta import relativedelta\n",
    "from dotenv import load_dotenv, find_dotenv\n",
    "import pandas as pd\n",
    "import pytz\n",
    "\n",
    "# import arcpy if available\n",
    "if importlib.util.find_spec(\"arcpy\") is not None:\n",
    "    import arcpy"
   ]
  },
  {
   "cell_type": "code",
   "execution_count": 48,
   "metadata": {},
   "outputs": [
    {
     "name": "stdout",
     "output_type": "stream",
     "text": [
      "The autoreload extension is already loaded. To reload it, use:\n",
      "  %reload_ext autoreload\n"
     ]
    },
    {
     "data": {
      "text/html": [
       "GIS @ <a href=\"https://knu2xs.maps.arcgis.com\">https://knu2xs.maps.arcgis.com</a>"
      ],
      "text/plain": [
       "GIS @ https://knu2xs.maps.arcgis.com version:9.2"
      ]
     },
     "execution_count": 48,
     "metadata": {},
     "output_type": "execute_result"
    }
   ],
   "source": [
    "# paths to common data locations - NOTE: to convert any path to a raw string, simply use str(path_instance)\n",
    "dir_prj = Path.cwd().parent\n",
    "\n",
    "dir_data = dir_prj/'data'\n",
    "\n",
    "dir_raw = dir_data/'raw'\n",
    "dir_ext = dir_data/'external'\n",
    "dir_int = dir_data/'interim'\n",
    "dir_out = dir_data/'processed'\n",
    "\n",
    "gdb_raw = dir_raw/'raw.gdb'\n",
    "gdb_int = dir_int/'interim.gdb'\n",
    "gdb_out = dir_out/'processed.gdb'\n",
    "\n",
    "# import the project package from the project package path - only necessary if you are not using a unique environemnt for this project\n",
    "sys.path.append(str(dir_prj/'src'))\n",
    "import river_levels\n",
    "\n",
    "# load the \"autoreload\" extension so that code can change, & always reload modules so that as you change code in src, it gets loaded\n",
    "%load_ext autoreload\n",
    "%autoreload 2\n",
    "\n",
    "# load environment variables from .env\n",
    "load_dotenv(find_dotenv())\n",
    "\n",
    "# create a GIS object instance; if you did not enter any information here, it defaults to anonymous access to ArcGIS Online\n",
    "gis = GIS(\n",
    "    url=os.getenv('ESRI_GIS_URL'), \n",
    "    username=os.getenv('ESRI_GIS_USERNAME'),\n",
    "    password=None if len(os.getenv('ESRI_GIS_PASSWORD')) is 0 else os.getenv('ESRI_GIS_PASSWORD')\n",
    ")\n",
    "\n",
    "gis"
   ]
  },
  {
   "cell_type": "code",
   "execution_count": 49,
   "metadata": {},
   "outputs": [],
   "source": [
    "from river_levels import Gauge"
   ]
  },
  {
   "cell_type": "code",
   "execution_count": 54,
   "metadata": {},
   "outputs": [
    {
     "data": {
      "text/plain": [
       "<river_levels.main.Gauge at 0x7fcd1627a090>"
      ]
     },
     "execution_count": 54,
     "metadata": {},
     "output_type": "execute_result"
    }
   ],
   "source": [
    "gauge = Gauge('01646500', 'usgs')\n",
    "\n",
    "gauge"
   ]
  },
  {
   "cell_type": "code",
   "execution_count": 55,
   "metadata": {},
   "outputs": [
    {
     "name": "stderr",
     "output_type": "stream",
     "text": [
      "/Users/joel5174/projects/river-levels/src/river_levels/main.py:191: UserWarning: No data is available for the requested metric, temperature.\n",
      "/Users/joel5174/projects/river-levels/src/river_levels/main.py:197: UserWarning: Although requested, temperature, does not appear to be available at this site.\n"
     ]
    },
    {
     "data": {
      "text/html": [
       "<div>\n",
       "<style scoped>\n",
       "    .dataframe tbody tr th:only-of-type {\n",
       "        vertical-align: middle;\n",
       "    }\n",
       "\n",
       "    .dataframe tbody tr th {\n",
       "        vertical-align: top;\n",
       "    }\n",
       "\n",
       "    .dataframe thead th {\n",
       "        text-align: right;\n",
       "    }\n",
       "</style>\n",
       "<table border=\"1\" class=\"dataframe\">\n",
       "  <thead>\n",
       "    <tr style=\"text-align: right;\">\n",
       "      <th></th>\n",
       "      <th>cfs</th>\n",
       "    </tr>\n",
       "  </thead>\n",
       "  <tbody>\n",
       "    <tr>\n",
       "      <th>2021-07-20 14:00:00-04:00</th>\n",
       "      <td>3830.0</td>\n",
       "    </tr>\n",
       "    <tr>\n",
       "      <th>2021-07-20 14:15:00-04:00</th>\n",
       "      <td>3830.0</td>\n",
       "    </tr>\n",
       "    <tr>\n",
       "      <th>2021-07-20 14:30:00-04:00</th>\n",
       "      <td>3830.0</td>\n",
       "    </tr>\n",
       "    <tr>\n",
       "      <th>2021-07-20 14:45:00-04:00</th>\n",
       "      <td>3830.0</td>\n",
       "    </tr>\n",
       "    <tr>\n",
       "      <th>2021-07-20 15:00:00-04:00</th>\n",
       "      <td>3830.0</td>\n",
       "    </tr>\n",
       "    <tr>\n",
       "      <th>...</th>\n",
       "      <td>...</td>\n",
       "    </tr>\n",
       "    <tr>\n",
       "      <th>2021-07-21 12:45:00-04:00</th>\n",
       "      <td>3770.0</td>\n",
       "    </tr>\n",
       "    <tr>\n",
       "      <th>2021-07-21 13:00:00-04:00</th>\n",
       "      <td>3830.0</td>\n",
       "    </tr>\n",
       "    <tr>\n",
       "      <th>2021-07-21 13:15:00-04:00</th>\n",
       "      <td>3770.0</td>\n",
       "    </tr>\n",
       "    <tr>\n",
       "      <th>2021-07-21 13:30:00-04:00</th>\n",
       "      <td>3770.0</td>\n",
       "    </tr>\n",
       "    <tr>\n",
       "      <th>2021-07-21 13:45:00-04:00</th>\n",
       "      <td>3770.0</td>\n",
       "    </tr>\n",
       "  </tbody>\n",
       "</table>\n",
       "<p>96 rows × 1 columns</p>\n",
       "</div>"
      ],
      "text/plain": [
       "                              cfs\n",
       "2021-07-20 14:00:00-04:00  3830.0\n",
       "2021-07-20 14:15:00-04:00  3830.0\n",
       "2021-07-20 14:30:00-04:00  3830.0\n",
       "2021-07-20 14:45:00-04:00  3830.0\n",
       "2021-07-20 15:00:00-04:00  3830.0\n",
       "...                           ...\n",
       "2021-07-21 12:45:00-04:00  3770.0\n",
       "2021-07-21 13:00:00-04:00  3830.0\n",
       "2021-07-21 13:15:00-04:00  3770.0\n",
       "2021-07-21 13:30:00-04:00  3770.0\n",
       "2021-07-21 13:45:00-04:00  3770.0\n",
       "\n",
       "[96 rows x 1 columns]"
      ]
     },
     "execution_count": 55,
     "metadata": {},
     "output_type": "execute_result"
    }
   ],
   "source": [
    "obs = gauge.get_observations(['cfs', 'temperature'], period='day', period_count=1)\n",
    "\n",
    "obs"
   ]
  },
  {
   "cell_type": "code",
   "execution_count": 30,
   "metadata": {},
   "outputs": [],
   "source": [
    "str_val = '99.4'"
   ]
  },
  {
   "cell_type": "code",
   "execution_count": 33,
   "metadata": {},
   "outputs": [
    {
     "data": {
      "text/plain": [
       "True"
      ]
     },
     "execution_count": 33,
     "metadata": {},
     "output_type": "execute_result"
    }
   ],
   "source": [
    "str_val.replace('.', '').isnumeric()"
   ]
  },
  {
   "cell_type": "code",
   "execution_count": 7,
   "metadata": {},
   "outputs": [
    {
     "name": "stdout",
     "output_type": "stream",
     "text": [
      "<class 'pandas.core.frame.DataFrame'>\n",
      "RangeIndex: 175222 entries, 0 to 175221\n",
      "Data columns (total 2 columns):\n",
      " #   Column    Non-Null Count   Dtype  \n",
      "---  ------    --------------   -----  \n",
      " 0   value     175222 non-null  float64\n",
      " 1   datetime  175222 non-null  object \n",
      "dtypes: float64(1), object(1)\n",
      "memory usage: 2.7+ MB\n",
      "None\n"
     ]
    },
    {
     "data": {
      "text/html": [
       "<div>\n",
       "<style scoped>\n",
       "    .dataframe tbody tr th:only-of-type {\n",
       "        vertical-align: middle;\n",
       "    }\n",
       "\n",
       "    .dataframe tbody tr th {\n",
       "        vertical-align: top;\n",
       "    }\n",
       "\n",
       "    .dataframe thead th {\n",
       "        text-align: right;\n",
       "    }\n",
       "</style>\n",
       "<table border=\"1\" class=\"dataframe\">\n",
       "  <thead>\n",
       "    <tr style=\"text-align: right;\">\n",
       "      <th></th>\n",
       "      <th>value</th>\n",
       "      <th>datetime</th>\n",
       "    </tr>\n",
       "  </thead>\n",
       "  <tbody>\n",
       "    <tr>\n",
       "      <th>0</th>\n",
       "      <td>847.0</td>\n",
       "      <td>2016-07-21 00:00:00-07:00</td>\n",
       "    </tr>\n",
       "    <tr>\n",
       "      <th>1</th>\n",
       "      <td>847.0</td>\n",
       "      <td>2016-07-21 00:15:00-07:00</td>\n",
       "    </tr>\n",
       "    <tr>\n",
       "      <th>2</th>\n",
       "      <td>847.0</td>\n",
       "      <td>2016-07-21 00:30:00-07:00</td>\n",
       "    </tr>\n",
       "    <tr>\n",
       "      <th>3</th>\n",
       "      <td>847.0</td>\n",
       "      <td>2016-07-21 00:45:00-07:00</td>\n",
       "    </tr>\n",
       "    <tr>\n",
       "      <th>4</th>\n",
       "      <td>847.0</td>\n",
       "      <td>2016-07-21 01:00:00-07:00</td>\n",
       "    </tr>\n",
       "    <tr>\n",
       "      <th>...</th>\n",
       "      <td>...</td>\n",
       "      <td>...</td>\n",
       "    </tr>\n",
       "    <tr>\n",
       "      <th>175217</th>\n",
       "      <td>912.0</td>\n",
       "      <td>2021-07-21 04:30:00-07:00</td>\n",
       "    </tr>\n",
       "    <tr>\n",
       "      <th>175218</th>\n",
       "      <td>912.0</td>\n",
       "      <td>2021-07-21 04:45:00-07:00</td>\n",
       "    </tr>\n",
       "    <tr>\n",
       "      <th>175219</th>\n",
       "      <td>912.0</td>\n",
       "      <td>2021-07-21 05:00:00-07:00</td>\n",
       "    </tr>\n",
       "    <tr>\n",
       "      <th>175220</th>\n",
       "      <td>904.0</td>\n",
       "      <td>2021-07-21 05:15:00-07:00</td>\n",
       "    </tr>\n",
       "    <tr>\n",
       "      <th>175221</th>\n",
       "      <td>904.0</td>\n",
       "      <td>2021-07-21 05:30:00-07:00</td>\n",
       "    </tr>\n",
       "  </tbody>\n",
       "</table>\n",
       "<p>175222 rows × 2 columns</p>\n",
       "</div>"
      ],
      "text/plain": [
       "        value                   datetime\n",
       "0       847.0  2016-07-21 00:00:00-07:00\n",
       "1       847.0  2016-07-21 00:15:00-07:00\n",
       "2       847.0  2016-07-21 00:30:00-07:00\n",
       "3       847.0  2016-07-21 00:45:00-07:00\n",
       "4       847.0  2016-07-21 01:00:00-07:00\n",
       "...       ...                        ...\n",
       "175217  912.0  2021-07-21 04:30:00-07:00\n",
       "175218  912.0  2021-07-21 04:45:00-07:00\n",
       "175219  912.0  2021-07-21 05:00:00-07:00\n",
       "175220  904.0  2021-07-21 05:15:00-07:00\n",
       "175221  904.0  2021-07-21 05:30:00-07:00\n",
       "\n",
       "[175222 rows x 2 columns]"
      ]
     },
     "execution_count": 7,
     "metadata": {},
     "output_type": "execute_result"
    }
   ],
   "source": [
    "obs_df = pd.DataFrame(obs)\n",
    "obs_df.value = obs_df.value.astype(float)\n",
    "# obs_df.datetime = obs_df.datetime.apply(lambda dt_str: pd.to_datetime(dt_str))\n",
    "\n",
    "print(obs_df.info())\n",
    "obs_df"
   ]
  },
  {
   "cell_type": "code",
   "execution_count": 83,
   "metadata": {},
   "outputs": [
    {
     "data": {
      "text/html": [
       "<div>\n",
       "<style scoped>\n",
       "    .dataframe tbody tr th:only-of-type {\n",
       "        vertical-align: middle;\n",
       "    }\n",
       "\n",
       "    .dataframe tbody tr th {\n",
       "        vertical-align: top;\n",
       "    }\n",
       "\n",
       "    .dataframe thead th {\n",
       "        text-align: right;\n",
       "    }\n",
       "</style>\n",
       "<table border=\"1\" class=\"dataframe\">\n",
       "  <thead>\n",
       "    <tr style=\"text-align: right;\">\n",
       "      <th></th>\n",
       "      <th>value</th>\n",
       "    </tr>\n",
       "    <tr>\n",
       "      <th>dt_tz</th>\n",
       "      <th></th>\n",
       "    </tr>\n",
       "  </thead>\n",
       "  <tbody>\n",
       "    <tr>\n",
       "      <th>2016-07-20 00:00:00-07:00</th>\n",
       "      <td>904.0</td>\n",
       "    </tr>\n",
       "    <tr>\n",
       "      <th>2016-07-20 00:15:00-07:00</th>\n",
       "      <td>904.0</td>\n",
       "    </tr>\n",
       "    <tr>\n",
       "      <th>2016-07-20 00:30:00-07:00</th>\n",
       "      <td>904.0</td>\n",
       "    </tr>\n",
       "    <tr>\n",
       "      <th>2016-07-20 00:45:00-07:00</th>\n",
       "      <td>904.0</td>\n",
       "    </tr>\n",
       "    <tr>\n",
       "      <th>2016-07-20 01:00:00-07:00</th>\n",
       "      <td>904.0</td>\n",
       "    </tr>\n",
       "    <tr>\n",
       "      <th>...</th>\n",
       "      <td>...</td>\n",
       "    </tr>\n",
       "    <tr>\n",
       "      <th>2021-07-20 19:30:00-07:00</th>\n",
       "      <td>945.0</td>\n",
       "    </tr>\n",
       "    <tr>\n",
       "      <th>2021-07-20 19:45:00-07:00</th>\n",
       "      <td>945.0</td>\n",
       "    </tr>\n",
       "    <tr>\n",
       "      <th>2021-07-20 20:00:00-07:00</th>\n",
       "      <td>945.0</td>\n",
       "    </tr>\n",
       "    <tr>\n",
       "      <th>2021-07-20 20:15:00-07:00</th>\n",
       "      <td>945.0</td>\n",
       "    </tr>\n",
       "    <tr>\n",
       "      <th>2021-07-20 20:30:00-07:00</th>\n",
       "      <td>945.0</td>\n",
       "    </tr>\n",
       "  </tbody>\n",
       "</table>\n",
       "<p>175282 rows × 1 columns</p>\n",
       "</div>"
      ],
      "text/plain": [
       "                           value\n",
       "dt_tz                           \n",
       "2016-07-20 00:00:00-07:00  904.0\n",
       "2016-07-20 00:15:00-07:00  904.0\n",
       "2016-07-20 00:30:00-07:00  904.0\n",
       "2016-07-20 00:45:00-07:00  904.0\n",
       "2016-07-20 01:00:00-07:00  904.0\n",
       "...                          ...\n",
       "2021-07-20 19:30:00-07:00  945.0\n",
       "2021-07-20 19:45:00-07:00  945.0\n",
       "2021-07-20 20:00:00-07:00  945.0\n",
       "2021-07-20 20:15:00-07:00  945.0\n",
       "2021-07-20 20:30:00-07:00  945.0\n",
       "\n",
       "[175282 rows x 1 columns]"
      ]
     },
     "execution_count": 83,
     "metadata": {},
     "output_type": "execute_result"
    }
   ],
   "source": [
    "obs_df['timestamp'] = obs_df.datetime.apply(lambda dt: dt.astimezone(pytz.timezone('US/Pacific')))\n",
    "\n",
    "obs_df = obs_df.drop(columns=['datetime']).set_index('dt_tz')\n",
    "\n",
    "obs_df"
   ]
  },
  {
   "cell_type": "code",
   "execution_count": 84,
   "metadata": {},
   "outputs": [
    {
     "name": "stdout",
     "output_type": "stream",
     "text": [
      "<class 'pandas.core.frame.DataFrame'>\n",
      "DatetimeIndex: 175282 entries, 2016-07-20 00:00:00-07:00 to 2021-07-20 20:30:00-07:00\n",
      "Data columns (total 1 columns):\n",
      " #   Column  Non-Null Count   Dtype  \n",
      "---  ------  --------------   -----  \n",
      " 0   value   175282 non-null  float64\n",
      "dtypes: float64(1)\n",
      "memory usage: 2.7 MB\n"
     ]
    },
    {
     "data": {
      "text/html": [
       "<div>\n",
       "<style scoped>\n",
       "    .dataframe tbody tr th:only-of-type {\n",
       "        vertical-align: middle;\n",
       "    }\n",
       "\n",
       "    .dataframe tbody tr th {\n",
       "        vertical-align: top;\n",
       "    }\n",
       "\n",
       "    .dataframe thead th {\n",
       "        text-align: right;\n",
       "    }\n",
       "</style>\n",
       "<table border=\"1\" class=\"dataframe\">\n",
       "  <thead>\n",
       "    <tr style=\"text-align: right;\">\n",
       "      <th></th>\n",
       "      <th>value</th>\n",
       "    </tr>\n",
       "    <tr>\n",
       "      <th>dt_tz</th>\n",
       "      <th></th>\n",
       "    </tr>\n",
       "  </thead>\n",
       "  <tbody>\n",
       "    <tr>\n",
       "      <th>2016-07-20 00:00:00-07:00</th>\n",
       "      <td>904.0</td>\n",
       "    </tr>\n",
       "    <tr>\n",
       "      <th>2016-07-20 00:15:00-07:00</th>\n",
       "      <td>904.0</td>\n",
       "    </tr>\n",
       "    <tr>\n",
       "      <th>2016-07-20 00:30:00-07:00</th>\n",
       "      <td>904.0</td>\n",
       "    </tr>\n",
       "    <tr>\n",
       "      <th>2016-07-20 00:45:00-07:00</th>\n",
       "      <td>904.0</td>\n",
       "    </tr>\n",
       "    <tr>\n",
       "      <th>2016-07-20 01:00:00-07:00</th>\n",
       "      <td>904.0</td>\n",
       "    </tr>\n",
       "  </tbody>\n",
       "</table>\n",
       "</div>"
      ],
      "text/plain": [
       "                           value\n",
       "dt_tz                           \n",
       "2016-07-20 00:00:00-07:00  904.0\n",
       "2016-07-20 00:15:00-07:00  904.0\n",
       "2016-07-20 00:30:00-07:00  904.0\n",
       "2016-07-20 00:45:00-07:00  904.0\n",
       "2016-07-20 01:00:00-07:00  904.0"
      ]
     },
     "execution_count": 84,
     "metadata": {},
     "output_type": "execute_result"
    }
   ],
   "source": [
    "mean_df = obs_df.rolling('5D').mean()\n",
    "\n",
    "mean_df.info()\n",
    "mean_df.head()"
   ]
  },
  {
   "cell_type": "code",
   "execution_count": 74,
   "metadata": {},
   "outputs": [
    {
     "data": {
      "image/png": "[encoded data removed]",
      "text/plain": [
       "<Figure size 432x288 with 1 Axes>"
      ]
     },
     "metadata": {
      "needs_background": "light"
     },
     "output_type": "display_data"
    }
   ],
   "source": [
    "_ = mean_df.plot()"
   ]
  },
  {
   "cell_type": "code",
   "execution_count": 76,
   "metadata": {},
   "outputs": [
    {
     "data": {
      "text/plain": [
       "202"
      ]
     },
     "execution_count": 76,
     "metadata": {},
     "output_type": "execute_result"
    }
   ],
   "source": [
    "dt.timetuple().tm_yday"
   ]
  },
  {
   "cell_type": "code",
   "execution_count": null,
   "metadata": {},
   "outputs": [],
   "source": []
  }
 ],
 "metadata": {
  "kernelspec": {
   "display_name": "Python 3",
   "language": "python",
   "name": "python3"
  },
  "language_info": {
   "codemirror_mode": {
    "name": "ipython",
    "version": 3
   },
   "file_extension": ".py",
   "mimetype": "text/x-python",
   "name": "python",
   "nbconvert_exporter": "python",
   "pygments_lexer": "ipython3",
   "version": "3.7.10"
  }
 },
 "nbformat": 4,
 "nbformat_minor": 4
}
